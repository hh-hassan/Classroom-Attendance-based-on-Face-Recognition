{
 "cells": [
  {
   "cell_type": "code",
   "execution_count": 1,
   "metadata": {},
   "outputs": [],
   "source": [
    "import os\n",
    "import sys\n",
    "import pandas as pd\n",
    "import numpy as np\n",
    "import gzip\n",
    "import os\n",
    "import cv2\n",
    "import glob\n",
    "from sklearn.model_selection import train_test_split\n",
    "import random"
   ]
  },
  {
   "cell_type": "code",
   "execution_count": 2,
   "metadata": {},
   "outputs": [],
   "source": [
    "roll_list = list()"
   ]
  },
  {
   "cell_type": "code",
   "execution_count": 3,
   "metadata": {},
   "outputs": [
    {
     "name": "stdout",
     "output_type": "stream",
     "text": [
      "Enter subject code:AI61005\n"
     ]
    }
   ],
   "source": [
    "class students:\n",
    "  \n",
    "    # The images are 50 pixels in each dimension.\n",
    "    img_size = 50\n",
    "\n",
    "    # The images are stored in one-dimensional arrays of this length.\n",
    "    img_size_flat = img_size * img_size\n",
    "\n",
    "    # Tuple with height and width of images used to reshape arrays.\n",
    "    img_shape = (img_size, img_size)\n",
    "\n",
    "    # Number of colour channels for the images: 1 channel for gray-scale.\n",
    "    num_channels = 1\n",
    "\n",
    "    # Tuple with height, width and depth used to reshape arrays.\n",
    "    # This is used for reshaping in Keras.\n",
    "    img_shape_full = (img_size, img_size, num_channels)\n",
    "\n",
    "    # Number of classes, one class for each of 10 digits.\n",
    "    # num_classes = \n",
    "    \n",
    "    dirc = input(\"Enter subject code:\")\n",
    "    \n",
    "    def __init__(self):      \n",
    "        \n",
    "        cv_img_train = []\n",
    "        class_name = []\n",
    "        m = 0\n",
    "        \n",
    "        for img in glob.glob(\"E:\\\\\"+self.dirc+\"\\*\\*.jpg\"):\n",
    "            i= cv2.imread(img)\n",
    "            if type(i) != np.ndarray:\n",
    "                continue\n",
    "            m += 1;\n",
    "        \n",
    "        images = np.zeros((m,self.img_size_flat))\n",
    "        n = 0\n",
    "        \n",
    "        for img in glob.glob(\"E:\\\\\"+self.dirc+\"\\*\\*.jpg\"):        \n",
    "            i= cv2.imread(img)\n",
    "            if type(i) != np.ndarray:\n",
    "                continue\n",
    "            i = cv2.cvtColor(i, cv2.COLOR_BGR2GRAY)\n",
    "            i = cv2.resize(i, (self.img_size, self.img_size))\n",
    "            i = i.flatten() \n",
    "            images[n] = i\n",
    "            n += 1\n",
    "            \n",
    "            class_name.append(img.split('\\\\')[2])\n",
    "                \n",
    "        unique_class = set(class_name)\n",
    "        unique_class = list(unique_class)\n",
    "        \n",
    "        for a in unique_class:\n",
    "            roll_list.append(a)\n",
    "        \n",
    "        print(\"Printing roll numbers of registered students:\")\n",
    "        print(unique_class)\n",
    "        \n",
    "        self.num_classes = len(np.unique(unique_class))\n",
    "        print(\"Printing number of registered students: \",self.num_classes)\n",
    "        \n",
    "        x_train = images\n",
    "        \n",
    "        y_train_cls = np.asarray(class_name)\n",
    "        \n",
    "        self.num_train = len(x_train)\n",
    "        print(\"Length of training set: \",self.num_train)\n",
    "         \n",
    "        correct_vals = np.zeros((m,self.num_classes))\n",
    "        \n",
    "        y_train = np.zeros(m)\n",
    "        \n",
    "        d = {k: v for v, k in enumerate(unique_class)}\n",
    "        \n",
    "        self.d = d\n",
    "        \n",
    "        print(\"Keys assigned to different roll numbers:\")\n",
    "        print(d)\n",
    "        \n",
    "        for i in range(0,len(y_train_cls)):\n",
    "            for breed,index in d.items():\n",
    "                if breed == y_train_cls[i]:\n",
    "                    \n",
    "                    y_train[i] = index\n",
    "                    correct_val = np.zeros((self.num_classes))\n",
    "                    correct_val[index] = 1\n",
    "                    correct_vals[i] = correct_val\n",
    "                     \n",
    "        y_train_cls= correct_vals\n",
    "            \n",
    "        self.x_train = x_train[0:self.num_train] / 255.0\n",
    "        self.y_train_cls = y_train_cls[0:self.num_train]\n",
    "        self.y_train = y_train[0:self.num_train]\n",
    "        \n",
    "        \n",
    "    def random_batch(self, batch_size=32):\n",
    "        \"\"\"\n",
    "        Create a random batch of training-data.\n",
    "        :param batch_size: Number of images in the batch.\n",
    "        :return: 3 numpy arrays (x, y, y_cls)\n",
    "        \"\"\"\n",
    "        act_idx=np.arange(self.num_train)\n",
    "        \n",
    "        # Create a random index into the training-set.\n",
    "        idx = np.random.choice(self.num_train, batch_size, replace=False)\n",
    "        non_idx = np.setdiff1d(act_idx, idx)\n",
    "        \n",
    "        # Use the index to lookup random training-data.\n",
    "        \n",
    "        x_batch = self.x_train[idx]\n",
    "        \n",
    "        y_batch_cls = self.y_train_cls[idx]\n",
    "        \n",
    "        x_batch_test = self.x_train[non_idx]\n",
    "        \n",
    "        y_batch_cls_test = self.y_train_cls[non_idx]\n",
    "        \n",
    "        y_test = self.y_train[non_idx]\n",
    "\n",
    "        return x_batch, y_batch_cls, x_batch_test,y_batch_cls_test,y_test"
   ]
  },
  {
   "cell_type": "code",
   "execution_count": 4,
   "metadata": {},
   "outputs": [
    {
     "name": "stdout",
     "output_type": "stream",
     "text": [
      "Printing roll numbers of registered students:\n",
      "['19IM3FP26', '19EE10068', '19CY20001', '19EE10059', '19ME10033', '19CH10066', '19EE10078']\n",
      "Printing number of registered students:  7\n",
      "Length of training set:  700\n",
      "Keys assigned to different roll numbers:\n",
      "{'19IM3FP26': 0, '19EE10068': 1, '19CY20001': 2, '19EE10059': 3, '19ME10033': 4, '19CH10066': 5, '19EE10078': 6}\n"
     ]
    }
   ],
   "source": [
    "data = students()"
   ]
  },
  {
   "cell_type": "code",
   "execution_count": 5,
   "metadata": {},
   "outputs": [],
   "source": [
    "%matplotlib inline\n",
    "import matplotlib.pyplot as plt\n",
    "import tensorflow.compat.v1 as tf\n",
    "from sklearn.metrics import confusion_matrix\n",
    "import time\n",
    "from datetime import timedelta\n",
    "import math"
   ]
  },
  {
   "cell_type": "code",
   "execution_count": 6,
   "metadata": {},
   "outputs": [
    {
     "name": "stdout",
     "output_type": "stream",
     "text": [
      "img_size :  50\n",
      "img_size_flat :  2500\n",
      "img_shape :  (50, 50)\n",
      "num_classes :  7\n",
      "num_channels :  1\n"
     ]
    }
   ],
   "source": [
    "img_size = data.img_size\n",
    "print(\"img_size : \",img_size)\n",
    "\n",
    "# The images are stored in one-dimensional arrays of this length.\n",
    "img_size_flat = data.img_size_flat\n",
    "print(\"img_size_flat : \",img_size_flat)\n",
    "\n",
    "# Tuple with height and width of images used to reshape arrays.\n",
    "img_shape = data.img_shape\n",
    "print(\"img_shape : \",img_shape )\n",
    "\n",
    "# Number of classes, one class for each of 10 digits.\n",
    "num_classes = data.num_classes\n",
    "print(\"num_classes : \",num_classes)\n",
    "\n",
    "# Number of colour channels for the images: 1 channel for gray-scale.\n",
    "num_channels = data.num_channels\n",
    "print(\"num_channels : \",num_channels)"
   ]
  },
  {
   "cell_type": "code",
   "execution_count": 7,
   "metadata": {},
   "outputs": [],
   "source": [
    "def new_weights(shape):\n",
    "    return tf.Variable(tf.truncated_normal(shape, stddev=0.05))\n",
    "\n",
    "def new_biases(length):\n",
    "    return tf.Variable(tf.constant(0.05, shape=[length]))"
   ]
  },
  {
   "cell_type": "code",
   "execution_count": 8,
   "metadata": {},
   "outputs": [],
   "source": [
    "def new_conv_layer(input,              # The previous layer.\n",
    "                   num_input_channels, # Num. channels in prev. layer.\n",
    "                   filter_size,        # Width and height of each filter.\n",
    "                   num_filters,        # Number of filters.\n",
    "                   use_pooling=True):  # Use 2x2 max-pooling.\n",
    "\n",
    "    # Shape of the filter-weights for the convolution.\n",
    "    # This format is determined by the TensorFlow API.\n",
    "    shape = [filter_size, filter_size, num_input_channels, num_filters]\n",
    "\n",
    "    # Create new weights aka. filters with the given shape.\n",
    "    weights = new_weights(shape=shape)\n",
    "\n",
    "    # Create new biases, one for each filter.\n",
    "    biases = new_biases(length=num_filters)\n",
    "\n",
    "    # Create the TensorFlow operation for convolution.\n",
    "    # Note the strides are set to 1 in all dimensions.\n",
    "    \n",
    "    # The padding is set to 'SAME' which means the input image is padded with zeroes so the size of the output is the same.\n",
    "    layer = tf.nn.conv2d(input=input,\n",
    "                         filter=weights,\n",
    "                         strides=[1, filter_size/2, filter_size/2, 1],\n",
    "                         padding='SAME')\n",
    "\n",
    "    # Add the biases to the results of the convolution.\n",
    "    # A bias-value is added to each filter-channel.\n",
    "    layer += biases\n",
    "\n",
    "    # Use pooling to down-sample the image resolution.\n",
    "    \n",
    "    if use_pooling:\n",
    "        \n",
    "        # This is 2x2 max-pooling, which means that we consider 2x2 windows and select the largest value in each window. \n",
    "        #Then we move 2 pixels to the next window.\n",
    "        \n",
    "        layer = tf.nn.max_pool(value=layer,\n",
    "                               ksize=[1, 2, 2, 1],\n",
    "                               strides=[1, 2, 2, 1],\n",
    "                               padding='SAME')\n",
    "\n",
    "    # Rectified Linear Unit (ReLU).\n",
    "    # It calculates max(x, 0) for each input pixel x.\n",
    "    # This adds some non-linearity to the formula and allows us to learn more complicated functions.\n",
    "    layer = tf.nn.relu(layer)\n",
    "\n",
    "    # We return both the resulting layer and the filter-weights because we will plot the weights later.\n",
    "    return layer, weights"
   ]
  },
  {
   "cell_type": "code",
   "execution_count": 100,
   "metadata": {},
   "outputs": [],
   "source": [
    "def flatten_layer(layer):\n",
    "    \n",
    "    # Get the shape of the input layer.\n",
    "    layer_shape = layer.get_shape()\n",
    "    print(layer_shape)\n",
    "    \n",
    "    # The shape of the input layer is assumed to be:\n",
    "    # layer_shape == [num_images, img_height, img_width, num_channels]\n",
    "\n",
    "    # The number of features is: img_height * img_width * num_channels\n",
    "    # We can use a function from TensorFlow to calculate this.\n",
    "    num_features = layer_shape[1:4].num_elements()\n",
    "    print(num_features)\n",
    "    \n",
    "    # Reshape the layer to [num_images, num_features].\n",
    "    # Note that we just set the size of the second dimension to num_features and the size of the first dimension to -1\n",
    "    # which means the size in that dimension is calculated so the total size of the tensor is unchanged from the reshaping.\n",
    "    layer_flat = tf.reshape(layer, [-1, num_features])\n",
    "    print(layer_flat.shape)\n",
    "    \n",
    "    # The shape of the flattened layer is now: [num_images, img_height * img_width * num_channels]\n",
    "\n",
    "    # Return both the flattened layer and the number of features.\n",
    "    return layer_flat, num_features"
   ]
  },
  {
   "cell_type": "code",
   "execution_count": 101,
   "metadata": {},
   "outputs": [],
   "source": [
    "def new_fc_layer(input,          # The previous layer.\n",
    "                 num_inputs,     # Num. inputs from prev. layer.\n",
    "                 num_outputs,    # Num. outputs.\n",
    "                 use_relu=True): # Use Rectified Linear Unit (ReLU)?\n",
    "\n",
    "    # Create new weights and biases.\n",
    "    weights = new_weights(shape=[num_inputs, num_outputs])\n",
    "    biases = new_biases(length=num_outputs)\n",
    "\n",
    "    # Calculate the layer as the matrix multiplication of the input and weights, and then add the bias-values.\n",
    "    layer = tf.matmul(input, weights) + biases\n",
    "\n",
    "    # Use ReLU.\n",
    "    if use_relu:\n",
    "        layer = tf.nn.relu(layer)\n",
    "\n",
    "    return layer"
   ]
  },
  {
   "cell_type": "code",
   "execution_count": 102,
   "metadata": {},
   "outputs": [],
   "source": [
    "tf.compat.v1.disable_eager_execution()"
   ]
  },
  {
   "cell_type": "code",
   "execution_count": 103,
   "metadata": {},
   "outputs": [
    {
     "data": {
      "text/plain": [
       "TensorShape([None, 2500])"
      ]
     },
     "execution_count": 103,
     "metadata": {},
     "output_type": "execute_result"
    }
   ],
   "source": [
    "x = tf.placeholder(tf.float32, shape=[None, img_size_flat], name='x')\n",
    "x.shape"
   ]
  },
  {
   "cell_type": "code",
   "execution_count": 104,
   "metadata": {},
   "outputs": [
    {
     "data": {
      "text/plain": [
       "TensorShape([None, 50, 50, 1])"
      ]
     },
     "execution_count": 104,
     "metadata": {},
     "output_type": "execute_result"
    }
   ],
   "source": [
    "x_image = tf.reshape(x, [-1, img_size, img_size, num_channels])\n",
    "x_image.shape"
   ]
  },
  {
   "cell_type": "code",
   "execution_count": 105,
   "metadata": {},
   "outputs": [
    {
     "data": {
      "text/plain": [
       "TensorShape([None, 5])"
      ]
     },
     "execution_count": 105,
     "metadata": {},
     "output_type": "execute_result"
    }
   ],
   "source": [
    "y_true = tf.placeholder(tf.float32, shape=[None, num_classes], name='y_true')\n",
    "y_true.shape"
   ]
  },
  {
   "cell_type": "code",
   "execution_count": 106,
   "metadata": {},
   "outputs": [
    {
     "data": {
      "text/plain": [
       "<tf.Tensor 'ArgMax_4:0' shape=(None,) dtype=int64>"
      ]
     },
     "execution_count": 106,
     "metadata": {},
     "output_type": "execute_result"
    }
   ],
   "source": [
    "y_true_cls = tf.argmax(y_true, axis=1)\n",
    "y_true_cls"
   ]
  },
  {
   "cell_type": "code",
   "execution_count": 107,
   "metadata": {},
   "outputs": [],
   "source": [
    "layer_conv1, weights_conv1 = \\\n",
    "    new_conv_layer(input=x_image,\n",
    "                   num_input_channels=num_channels,\n",
    "                   filter_size=5,\n",
    "                   num_filters=16,\n",
    "                   use_pooling=True)"
   ]
  },
  {
   "cell_type": "code",
   "execution_count": 108,
   "metadata": {},
   "outputs": [
    {
     "data": {
      "text/plain": [
       "<tf.Tensor 'Relu_6:0' shape=(None, 13, 13, 16) dtype=float32>"
      ]
     },
     "execution_count": 108,
     "metadata": {},
     "output_type": "execute_result"
    }
   ],
   "source": [
    "layer_conv1"
   ]
  },
  {
   "cell_type": "code",
   "execution_count": 109,
   "metadata": {},
   "outputs": [],
   "source": [
    "layer_conv2, weights_conv2 = \\\n",
    "    new_conv_layer(input=layer_conv1,\n",
    "                   num_input_channels=16,\n",
    "                   filter_size=3,\n",
    "                   num_filters=36,\n",
    "                   use_pooling=True)"
   ]
  },
  {
   "cell_type": "code",
   "execution_count": 110,
   "metadata": {},
   "outputs": [
    {
     "data": {
      "text/plain": [
       "<tf.Tensor 'Relu_7:0' shape=(None, 7, 7, 36) dtype=float32>"
      ]
     },
     "execution_count": 110,
     "metadata": {},
     "output_type": "execute_result"
    }
   ],
   "source": [
    "layer_conv2"
   ]
  },
  {
   "cell_type": "code",
   "execution_count": 111,
   "metadata": {
    "scrolled": true
   },
   "outputs": [
    {
     "name": "stdout",
     "output_type": "stream",
     "text": [
      "(None, 7, 7, 36)\n",
      "1764\n",
      "(None, 1764)\n"
     ]
    },
    {
     "data": {
      "text/plain": [
       "<tf.Tensor 'Reshape_5:0' shape=(None, 1764) dtype=float32>"
      ]
     },
     "execution_count": 111,
     "metadata": {},
     "output_type": "execute_result"
    }
   ],
   "source": [
    "layer_flat, num_features = flatten_layer(layer_conv2)\n",
    "layer_flat"
   ]
  },
  {
   "cell_type": "code",
   "execution_count": 113,
   "metadata": {},
   "outputs": [],
   "source": [
    "layer_fc1 = new_fc_layer(input=layer_flat,\n",
    "                         num_inputs=num_features,\n",
    "                         num_outputs=128,\n",
    "                         use_relu=True)"
   ]
  },
  {
   "cell_type": "code",
   "execution_count": 114,
   "metadata": {},
   "outputs": [
    {
     "data": {
      "text/plain": [
       "<tf.Tensor 'Relu_9:0' shape=(None, 128) dtype=float32>"
      ]
     },
     "execution_count": 114,
     "metadata": {},
     "output_type": "execute_result"
    }
   ],
   "source": [
    "layer_fc1"
   ]
  },
  {
   "cell_type": "code",
   "execution_count": 115,
   "metadata": {},
   "outputs": [],
   "source": [
    "layer_fc2 = new_fc_layer(input=layer_fc1,\n",
    "                         num_inputs=128,\n",
    "                         num_outputs=num_classes,\n",
    "                         use_relu=False)"
   ]
  },
  {
   "cell_type": "code",
   "execution_count": 116,
   "metadata": {},
   "outputs": [
    {
     "data": {
      "text/plain": [
       "<tf.Tensor 'add_12:0' shape=(None, 5) dtype=float32>"
      ]
     },
     "execution_count": 116,
     "metadata": {},
     "output_type": "execute_result"
    }
   ],
   "source": [
    "layer_fc2"
   ]
  },
  {
   "cell_type": "code",
   "execution_count": 117,
   "metadata": {},
   "outputs": [
    {
     "data": {
      "text/plain": [
       "<tf.Tensor 'Softmax_2:0' shape=(None, 5) dtype=float32>"
      ]
     },
     "execution_count": 117,
     "metadata": {},
     "output_type": "execute_result"
    }
   ],
   "source": [
    "y_pred = tf.nn.softmax(layer_fc2)\n",
    "y_pred"
   ]
  },
  {
   "cell_type": "code",
   "execution_count": 118,
   "metadata": {},
   "outputs": [
    {
     "data": {
      "text/plain": [
       "<tf.Tensor 'ArgMax_5:0' shape=(None,) dtype=int64>"
      ]
     },
     "execution_count": 118,
     "metadata": {},
     "output_type": "execute_result"
    }
   ],
   "source": [
    "y_pred_cls = tf.argmax(y_pred, axis=1)\n",
    "y_pred_cls"
   ]
  },
  {
   "cell_type": "code",
   "execution_count": 119,
   "metadata": {},
   "outputs": [],
   "source": [
    "cross_entropy = tf.nn.softmax_cross_entropy_with_logits(logits=layer_fc2,\n",
    "                                                        labels=y_true)"
   ]
  },
  {
   "cell_type": "code",
   "execution_count": 120,
   "metadata": {},
   "outputs": [],
   "source": [
    "cost = tf.reduce_mean(cross_entropy)"
   ]
  },
  {
   "cell_type": "code",
   "execution_count": 121,
   "metadata": {},
   "outputs": [],
   "source": [
    "optimizer = tf.train.AdamOptimizer(learning_rate=1e-4).minimize(cost)"
   ]
  },
  {
   "cell_type": "code",
   "execution_count": 122,
   "metadata": {},
   "outputs": [],
   "source": [
    "correct_prediction = tf.equal(y_pred_cls, y_true_cls)"
   ]
  },
  {
   "cell_type": "code",
   "execution_count": 123,
   "metadata": {},
   "outputs": [],
   "source": [
    "accuracy = tf.reduce_mean(tf.cast(correct_prediction, tf.float32))"
   ]
  },
  {
   "cell_type": "code",
   "execution_count": 124,
   "metadata": {},
   "outputs": [],
   "source": [
    "session = tf.Session()"
   ]
  },
  {
   "cell_type": "code",
   "execution_count": 125,
   "metadata": {},
   "outputs": [],
   "source": [
    "session.run(tf.global_variables_initializer())"
   ]
  },
  {
   "cell_type": "code",
   "execution_count": 126,
   "metadata": {},
   "outputs": [],
   "source": [
    "train_batch_size = data.num_train"
   ]
  },
  {
   "cell_type": "code",
   "execution_count": 127,
   "metadata": {},
   "outputs": [],
   "source": [
    "x_batch, y_true_batch,x_batch_test,y_batch_cls_test,y_test = data.random_batch(batch_size=train_batch_size)"
   ]
  },
  {
   "cell_type": "code",
   "execution_count": 128,
   "metadata": {},
   "outputs": [],
   "source": [
    "total_iterations = 0\n",
    "\n",
    "def optimize(num_iterations,x_batch, y_true_batch):\n",
    "    \n",
    "    # Ensure we update the global variable rather than a local copy.\n",
    "    global total_iterations\n",
    "\n",
    "    # Start-time used for printing time-usage below.\n",
    "    start_time = time.time()\n",
    "\n",
    "    for i in range(total_iterations,\n",
    "                   total_iterations + num_iterations):\n",
    "\n",
    "       \n",
    "        feed_dict_train = {x: x_batch,\n",
    "                           y_true: y_true_batch}\n",
    "        \n",
    "   \n",
    "        session.run(optimizer, feed_dict=feed_dict_train)\n",
    "\n",
    "        # Print status every 100 iterations.\n",
    "        if i % 100 == 0:\n",
    "            \n",
    "            # Calculate the accuracy on the training-set.\n",
    "            acc = session.run(accuracy, feed_dict=feed_dict_train)\n",
    "\n",
    "            # Message for printing.\n",
    "            msg = \"Optimization Iteration: {0:>6}, Training Accuracy: {1:>6.1%}\"\n",
    "\n",
    "            # Print it.\n",
    "            print(msg.format(i + 1, acc))\n",
    "\n",
    "    # Update the total number of iterations performed.\n",
    "    total_iterations += num_iterations\n",
    "\n",
    "    # Ending time.\n",
    "    end_time = time.time()\n",
    "\n",
    "    # Difference between start and end-times.\n",
    "    time_dif = end_time - start_time\n",
    "\n",
    "    # Print the time-usage.\n",
    "    print(\"Time usage: \" + str(timedelta(seconds=int(round(time_dif)))))"
   ]
  },
  {
   "cell_type": "code",
   "execution_count": 129,
   "metadata": {},
   "outputs": [
    {
     "name": "stdout",
     "output_type": "stream",
     "text": [
      "Optimization Iteration:      1, Training Accuracy:  20.0%\n",
      "Optimization Iteration:    101, Training Accuracy:  99.4%\n",
      "Optimization Iteration:    201, Training Accuracy:  99.8%\n",
      "Optimization Iteration:    301, Training Accuracy: 100.0%\n",
      "Optimization Iteration:    401, Training Accuracy: 100.0%\n",
      "Optimization Iteration:    501, Training Accuracy: 100.0%\n",
      "Optimization Iteration:    601, Training Accuracy: 100.0%\n",
      "Optimization Iteration:    701, Training Accuracy: 100.0%\n",
      "Time usage: 0:02:56\n"
     ]
    }
   ],
   "source": [
    "num_iterations=800\n",
    "optimize(num_iterations,x_batch, y_true_batch)"
   ]
  },
  {
   "cell_type": "code",
   "execution_count": 142,
   "metadata": {},
   "outputs": [],
   "source": [
    "def plot_images(images, cls_true, cls_pred=None):\n",
    "    \n",
    "    #assert len(images) == len(cls_true) == 9\n",
    "    \n",
    "    # Create figure with 3x3 sub-plots.\n",
    "    fig, axes = plt.subplots(2, 2)\n",
    "    fig.subplots_adjust(hspace=0.9, wspace=0.9)\n",
    "\n",
    "    for i, ax in enumerate(axes.flat):\n",
    "        \n",
    "        # Plot image.\n",
    "        ax.imshow(images[i].reshape((50,50,3)),cmap='brg')\n",
    "\n",
    "        # Show true and predicted classes.\n",
    "        # if cls_pred is None:\n",
    "        #      xlabel = \"True: {0}\".format(cls_true[i])\n",
    "        #  else:\n",
    "        #      xlabel = \"True: {0}, Pred: {1}\".format(cls_true[i], cls_pred[i])\n",
    "\n",
    "        # Show the classes as the label on the x-axis.\n",
    "        ax.set_xlabel(\"Images from test data\")\n",
    "        \n",
    "        # Remove ticks from the plot.\n",
    "        ax.set_xticks([])\n",
    "        ax.set_yticks([])\n",
    "    \n",
    "    # Ensure the plot is shown correctly with multiple plots in a single Notebook cell.\n",
    "    plt.show()"
   ]
  },
  {
   "cell_type": "code",
   "execution_count": 143,
   "metadata": {},
   "outputs": [],
   "source": [
    "cv_img_train = []\n",
    "class_name = []\n",
    "\n",
    "m = 0\n",
    "\n",
    "for img in glob.glob(\"E:/test/*.jpg\"):\n",
    "    i = cv2.imread(img)\n",
    "    if type(i) != np.ndarray:\n",
    "        continue\n",
    "    m += 1;\n",
    "                \n",
    "#img_size_flat = self.img_size*self.img_size    \n",
    "\n",
    "images = np.zeros((m,2500))\n",
    "n = 0\n",
    "x_batch_test_color = []\n",
    "    \n",
    "for img in glob.glob(\"E:/test/*.jpg\"):  \n",
    "    \n",
    "    i= cv2.imread(img)\n",
    "    \n",
    "    if type(i) != np.ndarray:\n",
    "        continue\n",
    "    \n",
    "    x_batch_test_color.append(cv2.resize(i, (50, 50)))    \n",
    "    \n",
    "    i = cv2.cvtColor(i, cv2.COLOR_BGR2GRAY)\n",
    "    i = cv2.resize(i, (50, 50))\n",
    "    i = i.flatten() \n",
    "    \n",
    "    images[n]= i\n",
    "    \n",
    "    n += 1\n",
    "\n",
    "x_test = images \n",
    "x_batch_test = x_test / 255.0\n",
    "\n",
    "y_batch_cls_test = []\n",
    "y_test =[]"
   ]
  },
  {
   "cell_type": "code",
   "execution_count": 144,
   "metadata": {},
   "outputs": [
    {
     "data": {
      "image/png": "[encoded data removed]",
      "text/plain": [
       "<Figure size 432x288 with 4 Axes>"
      ]
     },
     "metadata": {},
     "output_type": "display_data"
    }
   ],
   "source": [
    "plot_images(x_batch_test_color,y_test,None)"
   ]
  },
  {
   "cell_type": "code",
   "execution_count": 145,
   "metadata": {},
   "outputs": [],
   "source": [
    "def plot_conv_layer(layer, image):\n",
    "    \n",
    "    # Assume layer is a TensorFlow op that outputs a 4-dim tensor which is the output of a convolutional layer,\n",
    "    # e.g. layer_conv1 or layer_conv2.\n",
    "\n",
    "    # Create a feed-dict containing just one image.\n",
    "    # Note that we don't need to feed y_true because it is not used in this calculation.\n",
    "    feed_dict = {x: [image]}\n",
    "\n",
    "    # Calculate and retrieve the output values of the layer when inputting that image.\n",
    "    values = session.run(layer, feed_dict=feed_dict)\n",
    "\n",
    "    # Number of filters used in the conv. layer.\n",
    "    num_filters = values.shape[3]\n",
    "\n",
    "    # Number of grids to plot.\n",
    "    # Rounded-up, square-root of the number of filters.\n",
    "    num_grids = math.ceil(math.sqrt(num_filters))\n",
    "    \n",
    "    # Create figure with a grid of sub-plots.\n",
    "    fig, axes = plt.subplots(num_grids, num_grids)\n",
    "\n",
    "    # Plot the output images of all the filters.\n",
    "    for i, ax in enumerate(axes.flat):\n",
    "        \n",
    "        # Only plot the images for valid filters.\n",
    "        \n",
    "        if i<num_filters:\n",
    "            # Get the output image of using the i'th filter.\n",
    "            # See new_conv_layer() for details on the format of this 4-dim tensor.\n",
    "            img = values[0, :, :, i]\n",
    "\n",
    "            # Plot image.\n",
    "            ax.imshow(img, interpolation='nearest', cmap='binary')\n",
    "        \n",
    "        # Remove ticks from the plot.\n",
    "        ax.set_xticks([])\n",
    "        ax.set_yticks([])\n",
    "    \n",
    "    # Ensure the plot is shown correctly with multiple plots in a single Notebook cell.\n",
    "    plt.show()"
   ]
  },
  {
   "cell_type": "code",
   "execution_count": 146,
   "metadata": {},
   "outputs": [
    {
     "data": {
      "image/png": "[encoded data removed]",
      "text/plain": [
       "<Figure size 432x288 with 16 Axes>"
      ]
     },
     "metadata": {},
     "output_type": "display_data"
    }
   ],
   "source": [
    "image1 = x_batch_test[10]\n",
    "\n",
    "plot_conv_layer(layer=layer_conv1, image=image1)"
   ]
  },
  {
   "cell_type": "code",
   "execution_count": 147,
   "metadata": {},
   "outputs": [],
   "source": [
    "def predicted_labels_scores( x_batch_test,y_batch_cls_test,y_test):\n",
    "                       \n",
    "    # Number of images in the test-set.\n",
    "    # num_test = data.num_train - train_batch_size\n",
    "    \n",
    "    num_test = len(x_test)\n",
    "    cls_pred = np.zeros(shape=num_test, dtype=np.int)\n",
    "    \n",
    "    images = x_batch_test[:, :]\n",
    "    labels = y_batch_cls_test\n",
    "    \n",
    "    feed_dict = {x: images}\n",
    "\n",
    "    # score for all classes for all the images\n",
    "    cls_pred = session.run(y_pred, feed_dict=feed_dict)\n",
    "    \n",
    "    # maximum score of all classes for all the  image \n",
    "    cls_pred_max = session.run(y_pred_cls,feed_dict=feed_dict)\n",
    "        \n",
    "        \n",
    "    # setting a threshold value of scores below which object is labelled as from class 100 which shows that image cannot be surely classified to any class.\n",
    "    # This is done in order to prevent present marking against the student who is not present.\n",
    "        \n",
    "    for p in range(0,num_test):\n",
    "        if np.amax(cls_pred[p]) < 0.85:\n",
    "            cls_pred_max[p] =100\n",
    "          \n",
    "    return cls_pred,cls_pred_max    "
   ]
  },
  {
   "cell_type": "code",
   "execution_count": 148,
   "metadata": {},
   "outputs": [],
   "source": [
    "cls_pred_test,cls_pred_max_test=predicted_labels_scores(x_batch_test,y_batch_cls_test,y_test)"
   ]
  },
  {
   "cell_type": "code",
   "execution_count": 149,
   "metadata": {},
   "outputs": [
    {
     "data": {
      "text/plain": [
       "{1: 90, 3: 72}"
      ]
     },
     "execution_count": 149,
     "metadata": {},
     "output_type": "execute_result"
    }
   ],
   "source": [
    "#getting the unique values and how many images in test set are assigned these unique values \n",
    "\n",
    "unique, counts = np.unique(cls_pred_max_test, return_counts=True)\n",
    "\n",
    "dict(zip(unique, counts))"
   ]
  },
  {
   "cell_type": "code",
   "execution_count": 163,
   "metadata": {},
   "outputs": [
    {
     "data": {
      "text/plain": [
       "['19EE10078', '19EE10068']"
      ]
     },
     "execution_count": 163,
     "metadata": {},
     "output_type": "execute_result"
    }
   ],
   "source": [
    "li =[]\n",
    "\n",
    "for i in range(0,len(unique)):\n",
    "    for roll,index in data.d.items():\n",
    "        if index == unique[i]:\n",
    "            li.append(roll) \n",
    "            \n",
    "li"
   ]
  },
  {
   "cell_type": "code",
   "execution_count": 158,
   "metadata": {},
   "outputs": [],
   "source": [
    "classlist = roll_list.copy()\n",
    "classlist = np.array(classlist)\n",
    "classlist = np.unique(classlist)\n",
    "\n",
    "df = pd.DataFrame()\n",
    "\n",
    "df['Roll_numbers'] = classlist"
   ]
  },
  {
   "cell_type": "code",
   "execution_count": 161,
   "metadata": {},
   "outputs": [
    {
     "name": "stdout",
     "output_type": "stream",
     "text": [
      "Enter date:8\n"
     ]
    },
    {
     "name": "stderr",
     "output_type": "stream",
     "text": [
      "<ipython-input-161-548c12f5ff2c>:6: SettingWithCopyWarning: \n",
      "A value is trying to be set on a copy of a slice from a DataFrame\n",
      "\n",
      "See the caveats in the documentation: https://pandas.pydata.org/pandas-docs/stable/user_guide/indexing.html#returning-a-view-versus-a-copy\n",
      "  df[date][k] = 1\n"
     ]
    }
   ],
   "source": [
    "date = input('Enter date:')\n",
    "\n",
    "df[date] = 0\n",
    "\n",
    "for i in li:\n",
    "    for k in range(0,len(classlist)):\n",
    "        if df.Roll_numbers[k] == i:\n",
    "            df[date][k] = 1\n",
    "\n",
    "df.to_csv('E:/Attendance.csv')"
   ]
  },
  {
   "cell_type": "code",
   "execution_count": 162,
   "metadata": {},
   "outputs": [
    {
     "data": {
      "text/html": [
       "<div>\n",
       "<style scoped>\n",
       "    .dataframe tbody tr th:only-of-type {\n",
       "        vertical-align: middle;\n",
       "    }\n",
       "\n",
       "    .dataframe tbody tr th {\n",
       "        vertical-align: top;\n",
       "    }\n",
       "\n",
       "    .dataframe thead th {\n",
       "        text-align: right;\n",
       "    }\n",
       "</style>\n",
       "<table border=\"1\" class=\"dataframe\">\n",
       "  <thead>\n",
       "    <tr style=\"text-align: right;\">\n",
       "      <th></th>\n",
       "      <th>Roll_numbers</th>\n",
       "      <th>7</th>\n",
       "      <th>8</th>\n",
       "    </tr>\n",
       "  </thead>\n",
       "  <tbody>\n",
       "    <tr>\n",
       "      <th>0</th>\n",
       "      <td>19CH10066</td>\n",
       "      <td>0</td>\n",
       "      <td>0</td>\n",
       "    </tr>\n",
       "    <tr>\n",
       "      <th>1</th>\n",
       "      <td>19CY20001</td>\n",
       "      <td>0</td>\n",
       "      <td>0</td>\n",
       "    </tr>\n",
       "    <tr>\n",
       "      <th>2</th>\n",
       "      <td>19EE10059</td>\n",
       "      <td>0</td>\n",
       "      <td>0</td>\n",
       "    </tr>\n",
       "    <tr>\n",
       "      <th>3</th>\n",
       "      <td>19EE10068</td>\n",
       "      <td>1</td>\n",
       "      <td>1</td>\n",
       "    </tr>\n",
       "    <tr>\n",
       "      <th>4</th>\n",
       "      <td>19EE10078</td>\n",
       "      <td>1</td>\n",
       "      <td>1</td>\n",
       "    </tr>\n",
       "  </tbody>\n",
       "</table>\n",
       "</div>"
      ],
      "text/plain": [
       "  Roll_numbers  7  8\n",
       "0    19CH10066  0  0\n",
       "1    19CY20001  0  0\n",
       "2    19EE10059  0  0\n",
       "3    19EE10068  1  1\n",
       "4    19EE10078  1  1"
      ]
     },
     "execution_count": 162,
     "metadata": {},
     "output_type": "execute_result"
    }
   ],
   "source": [
    "df"
   ]
  }
 ],
 "metadata": {
  "kernelspec": {
   "display_name": "Python 3",
   "language": "python",
   "name": "python3"
  },
  "language_info": {
   "codemirror_mode": {
    "name": "ipython",
    "version": 3
   },
   "file_extension": ".py",
   "mimetype": "text/x-python",
   "name": "python",
   "nbconvert_exporter": "python",
   "pygments_lexer": "ipython3",
   "version": "3.8.3"
  }
 },
 "nbformat": 4,
 "nbformat_minor": 2
}
